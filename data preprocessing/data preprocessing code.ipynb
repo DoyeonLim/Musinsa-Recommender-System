{
 "cells": [
  {
   "cell_type": "code",
   "execution_count": null,
   "id": "c7a329ac",
   "metadata": {},
   "outputs": [],
   "source": [
    "#추후에 pickle 불러와서 csv로 저장하기\n",
    "with open('', 'rb') as f:\n",
    "    data = pickle.load(f)\n",
    "\n",
    "data.to_csv('', index = False)"
   ]
  },
  {
   "cell_type": "markdown",
   "id": "7f5ff909",
   "metadata": {},
   "source": [
    "# 데이터 전처리"
   ]
  },
  {
   "cell_type": "code",
   "execution_count": 44,
   "id": "337b5906",
   "metadata": {},
   "outputs": [],
   "source": [
    "import pandas as pd\n",
    "import numpy as np\n",
    "df = pd.read_csv(\"\")"
   ]
  },
  {
   "cell_type": "code",
   "execution_count": 45,
   "id": "8b120f2c",
   "metadata": {},
   "outputs": [
    {
     "data": {
      "text/html": [
       "<div>\n",
       "<style scoped>\n",
       "    .dataframe tbody tr th:only-of-type {\n",
       "        vertical-align: middle;\n",
       "    }\n",
       "\n",
       "    .dataframe tbody tr th {\n",
       "        vertical-align: top;\n",
       "    }\n",
       "\n",
       "    .dataframe thead th {\n",
       "        text-align: right;\n",
       "    }\n",
       "</style>\n",
       "<table border=\"1\" class=\"dataframe\">\n",
       "  <thead>\n",
       "    <tr style=\"text-align: right;\">\n",
       "      <th></th>\n",
       "      <th>하위카테고리</th>\n",
       "      <th>색상</th>\n",
       "      <th>상품명</th>\n",
       "      <th>상품고유번호</th>\n",
       "      <th>조회수</th>\n",
       "      <th>누적판매수</th>\n",
       "      <th>좋아요</th>\n",
       "      <th>평점</th>\n",
       "      <th>상품태그정보</th>\n",
       "      <th>가격</th>\n",
       "      <th>18세이하</th>\n",
       "      <th>19세이상 23세이하</th>\n",
       "      <th>24세이상 28세이하</th>\n",
       "      <th>29세이상 33세이하</th>\n",
       "      <th>34세이상 39세이하</th>\n",
       "      <th>40세이상</th>\n",
       "      <th>남성</th>\n",
       "      <th>여성</th>\n",
       "    </tr>\n",
       "  </thead>\n",
       "  <tbody>\n",
       "    <tr>\n",
       "      <th>0</th>\n",
       "      <td>후드 집업</td>\n",
       "      <td>흰색</td>\n",
       "      <td>와핑 후드집업 크림 JJOT7203</td>\n",
       "      <td>836977</td>\n",
       "      <td>4.4천</td>\n",
       "      <td>1천</td>\n",
       "      <td>4018</td>\n",
       "      <td>4.7</td>\n",
       "      <td>['#집업', '#후드', '#후드집업', '#후드티']</td>\n",
       "      <td>37900</td>\n",
       "      <td>0.46</td>\n",
       "      <td>0.20</td>\n",
       "      <td>0.08</td>\n",
       "      <td>0.04</td>\n",
       "      <td>0.03</td>\n",
       "      <td>0.19</td>\n",
       "      <td>0.15</td>\n",
       "      <td>0.85</td>\n",
       "    </tr>\n",
       "    <tr>\n",
       "      <th>1</th>\n",
       "      <td>후드 집업</td>\n",
       "      <td>흰색</td>\n",
       "      <td>MIX HOOD JACKET</td>\n",
       "      <td>1599014</td>\n",
       "      <td>1만</td>\n",
       "      <td>500개</td>\n",
       "      <td>2544</td>\n",
       "      <td>4.6</td>\n",
       "      <td>['#오버핏후드', '#자켓', '#집업', '#후드', '#집업후드']</td>\n",
       "      <td>79000</td>\n",
       "      <td>0.31</td>\n",
       "      <td>0.20</td>\n",
       "      <td>0.20</td>\n",
       "      <td>0.12</td>\n",
       "      <td>0.07</td>\n",
       "      <td>0.10</td>\n",
       "      <td>0.57</td>\n",
       "      <td>0.43</td>\n",
       "    </tr>\n",
       "    <tr>\n",
       "      <th>2</th>\n",
       "      <td>후드 집업</td>\n",
       "      <td>흰색</td>\n",
       "      <td>Classic Raglan Hoodie Zip Up [White Grey]</td>\n",
       "      <td>1736613</td>\n",
       "      <td>2.5천</td>\n",
       "      <td>300개</td>\n",
       "      <td>990</td>\n",
       "      <td>4.8</td>\n",
       "      <td>['#투웨이', '#나그랑', '#후드', '#집업', '#후드집업', '#이지웨어']</td>\n",
       "      <td>53000</td>\n",
       "      <td>0.30</td>\n",
       "      <td>0.37</td>\n",
       "      <td>0.18</td>\n",
       "      <td>0.06</td>\n",
       "      <td>0.02</td>\n",
       "      <td>0.07</td>\n",
       "      <td>0.49</td>\n",
       "      <td>0.51</td>\n",
       "    </tr>\n",
       "    <tr>\n",
       "      <th>3</th>\n",
       "      <td>후드 집업</td>\n",
       "      <td>흰색</td>\n",
       "      <td>하이 양기모 후드 집업 크림 HJHD2082</td>\n",
       "      <td>1188563</td>\n",
       "      <td>800회</td>\n",
       "      <td>100개</td>\n",
       "      <td>639</td>\n",
       "      <td>4.7</td>\n",
       "      <td>['#기모후드집업', '#양기모', '#양기모후드', '#집업', '#후드집업', ...</td>\n",
       "      <td>32900</td>\n",
       "      <td>0.44</td>\n",
       "      <td>0.27</td>\n",
       "      <td>0.11</td>\n",
       "      <td>0.02</td>\n",
       "      <td>0.03</td>\n",
       "      <td>0.13</td>\n",
       "      <td>0.24</td>\n",
       "      <td>0.76</td>\n",
       "    </tr>\n",
       "    <tr>\n",
       "      <th>4</th>\n",
       "      <td>후드 집업</td>\n",
       "      <td>흰색</td>\n",
       "      <td>후디드 스웨트 집업 [화이트]</td>\n",
       "      <td>1211720</td>\n",
       "      <td>1.7천</td>\n",
       "      <td>200개</td>\n",
       "      <td>403</td>\n",
       "      <td>4.8</td>\n",
       "      <td>['#스웨트셋업', '#스웨트컬렉션', '#이지웨어', '#집업재킷', '#단독후디...</td>\n",
       "      <td>34900</td>\n",
       "      <td>0.32</td>\n",
       "      <td>0.34</td>\n",
       "      <td>0.13</td>\n",
       "      <td>0.05</td>\n",
       "      <td>0.03</td>\n",
       "      <td>0.13</td>\n",
       "      <td>0.43</td>\n",
       "      <td>0.57</td>\n",
       "    </tr>\n",
       "  </tbody>\n",
       "</table>\n",
       "</div>"
      ],
      "text/plain": [
       "  하위카테고리  색상                                        상품명   상품고유번호   조회수 누적판매수  \\\n",
       "0  후드 집업  흰색                        와핑 후드집업 크림 JJOT7203   836977  4.4천    1천   \n",
       "1  후드 집업  흰색                            MIX HOOD JACKET  1599014    1만  500개   \n",
       "2  후드 집업  흰색  Classic Raglan Hoodie Zip Up [White Grey]  1736613  2.5천  300개   \n",
       "3  후드 집업  흰색                   하이 양기모 후드 집업 크림 HJHD2082  1188563  800회  100개   \n",
       "4  후드 집업  흰색                           후디드 스웨트 집업 [화이트]  1211720  1.7천  200개   \n",
       "\n",
       "    좋아요   평점                                             상품태그정보     가격  18세이하  \\\n",
       "0  4018  4.7                    ['#집업', '#후드', '#후드집업', '#후드티']  37900   0.46   \n",
       "1  2544  4.6           ['#오버핏후드', '#자켓', '#집업', '#후드', '#집업후드']  79000   0.31   \n",
       "2   990  4.8   ['#투웨이', '#나그랑', '#후드', '#집업', '#후드집업', '#이지웨어']  53000   0.30   \n",
       "3   639  4.7  ['#기모후드집업', '#양기모', '#양기모후드', '#집업', '#후드집업', ...  32900   0.44   \n",
       "4   403  4.8  ['#스웨트셋업', '#스웨트컬렉션', '#이지웨어', '#집업재킷', '#단독후디...  34900   0.32   \n",
       "\n",
       "   19세이상 23세이하  24세이상 28세이하  29세이상 33세이하  34세이상 39세이하  40세이상    남성    여성  \n",
       "0         0.20         0.08         0.04         0.03   0.19  0.15  0.85  \n",
       "1         0.20         0.20         0.12         0.07   0.10  0.57  0.43  \n",
       "2         0.37         0.18         0.06         0.02   0.07  0.49  0.51  \n",
       "3         0.27         0.11         0.02         0.03   0.13  0.24  0.76  \n",
       "4         0.34         0.13         0.05         0.03   0.13  0.43  0.57  "
      ]
     },
     "execution_count": 45,
     "metadata": {},
     "output_type": "execute_result"
    }
   ],
   "source": [
    "# pd.options.display.max_rows = None\n",
    "df.head()"
   ]
  },
  {
   "cell_type": "code",
   "execution_count": 46,
   "id": "ad0f9ad5",
   "metadata": {},
   "outputs": [
    {
     "name": "stdout",
     "output_type": "stream",
     "text": [
      "<class 'pandas.core.frame.DataFrame'>\n",
      "RangeIndex: 7037 entries, 0 to 7036\n",
      "Data columns (total 18 columns):\n",
      " #   Column       Non-Null Count  Dtype  \n",
      "---  ------       --------------  -----  \n",
      " 0   하위카테고리       7037 non-null   object \n",
      " 1   색상           7037 non-null   object \n",
      " 2   상품명          7037 non-null   object \n",
      " 3   상품고유번호       7037 non-null   int64  \n",
      " 4   조회수          7037 non-null   object \n",
      " 5   누적판매수        7037 non-null   object \n",
      " 6   좋아요          7037 non-null   int64  \n",
      " 7   평점           7037 non-null   float64\n",
      " 8   상품태그정보       7037 non-null   object \n",
      " 9   가격           7037 non-null   int64  \n",
      " 10  18세이하        7037 non-null   float64\n",
      " 11  19세이상 23세이하  7037 non-null   float64\n",
      " 12  24세이상 28세이하  7037 non-null   float64\n",
      " 13  29세이상 33세이하  7037 non-null   float64\n",
      " 14  34세이상 39세이하  7037 non-null   float64\n",
      " 15  40세이상        7037 non-null   float64\n",
      " 16  남성           7037 non-null   float64\n",
      " 17  여성           7037 non-null   float64\n",
      "dtypes: float64(9), int64(3), object(6)\n",
      "memory usage: 989.7+ KB\n"
     ]
    }
   ],
   "source": [
    "df.info()"
   ]
  },
  {
   "cell_type": "markdown",
   "id": "8f22b851",
   "metadata": {},
   "source": [
    "## 상품명"
   ]
  },
  {
   "cell_type": "code",
   "execution_count": 47,
   "id": "ebec947c",
   "metadata": {},
   "outputs": [
    {
     "data": {
      "text/plain": [
       "3/17 배송                                     54\n",
       "3/18 배송                                     43\n",
       "[위클리특가]                                     32\n",
       "3/31 배송                                     22\n",
       "3/25 배송                                     22\n",
       "                                            ..\n",
       "플렉서블 인슐레이티드 가디건 - 라이트그레이 / SW-22SU001LGY     1\n",
       "(W) PERSSIAN KNIT - TAN                      1\n",
       "NOI419 버튼 포인트 니트 가디건 (핑크)                    1\n",
       "오버핏 포인트로고 세로라인 베이직 남성 니트가디건(오트밀)             1\n",
       "반슬리 다운 여성 롱패딩 (BEIGE)                        1\n",
       "Name: 상품명, Length: 6701, dtype: int64"
      ]
     },
     "execution_count": 47,
     "metadata": {},
     "output_type": "execute_result"
    }
   ],
   "source": [
    "df[\"상품명\"].value_counts() # 이상한 상품명 없나 확인하고 삭제하기"
   ]
  },
  {
   "cell_type": "code",
   "execution_count": 48,
   "id": "a7ed69ac",
   "metadata": {},
   "outputs": [],
   "source": [
    "idx = df[df['상품명'].str.contains(\"배송\")].index # \"배송\"이라는 단어가 들어가면 삭제\n",
    "df.drop(idx , inplace=True)\n",
    "idx = df[df['상품명'].str.contains(\"출고\")].index\n",
    "df.drop(idx , inplace=True)\n",
    "idx = df[df['상품명'].str.contains(\"특가\")].index\n",
    "df.drop(idx , inplace=True)\n",
    "idx = df[df['상품명'].str.contains(\"착용\")].index\n",
    "df.drop(idx , inplace=True)\n",
    "\n",
    "idx = df[df['상품명'] == \"[우먼즈]\"].index # 이름이 \"[우먼즈]\" 이면 삭제\n",
    "df.drop(idx , inplace=True)"
   ]
  },
  {
   "cell_type": "code",
   "execution_count": 49,
   "id": "05b7cf04",
   "metadata": {},
   "outputs": [
    {
     "data": {
      "text/plain": [
       "패치워크 집업                             4\n",
       "BLAVE CARDIGAN                      4\n",
       "WOOL CLASSIC CARDIGAN               3\n",
       "클래식 캐시미어 가디건                        3\n",
       "크루세이더 무스탕 재킷 카키브라운                  3\n",
       "                                   ..\n",
       "(W) PERSSIAN KNIT - TAN             1\n",
       "NOI419 버튼 포인트 니트 가디건 (핑크)           1\n",
       "오버핏 포인트로고 세로라인 베이직 남성 니트가디건(오트밀)    1\n",
       "드롭숄더핏 B-3 무스탕 (블랙)                  1\n",
       "반슬리 다운 여성 롱패딩 (BEIGE)               1\n",
       "Name: 상품명, Length: 6662, dtype: int64"
      ]
     },
     "execution_count": 49,
     "metadata": {},
     "output_type": "execute_result"
    }
   ],
   "source": [
    "df[\"상품명\"].value_counts()"
   ]
  },
  {
   "cell_type": "markdown",
   "id": "b0b800fb",
   "metadata": {},
   "source": [
    "# 조회수 int64로 바꾸기"
   ]
  },
  {
   "cell_type": "code",
   "execution_count": 50,
   "id": "33e55b5a",
   "metadata": {},
   "outputs": [],
   "source": [
    "#조회수, 누적판매수\n",
    "\n",
    "def change_view(view):\n",
    "    \n",
    "  if view[-1] == '회' or view[-1] == '개':\n",
    "    new_view = int(view[:-1])\n",
    "  elif view[-1] == '천':\n",
    "    new_view = int(float(view[:-1])*1000)\n",
    "  elif view[-1] == '만':\n",
    "    new_view = int(float(view[:-1])*10000)\n",
    "  else:\n",
    "    new_view = 0\n",
    "  \n",
    "  return new_view\n",
    "\n",
    "df['조회수'] = df['조회수'].apply(lambda x : change_view(x))\n",
    "df['누적판매수'] = df['누적판매수'].apply(lambda x : change_view(x))"
   ]
  },
  {
   "cell_type": "markdown",
   "id": "33f451e9",
   "metadata": {},
   "source": [
    "### 조회수 0인거 미디언으로 바꿔주기"
   ]
  },
  {
   "cell_type": "code",
   "execution_count": 51,
   "id": "354c95ae",
   "metadata": {},
   "outputs": [
    {
     "data": {
      "text/plain": [
       "200.0"
      ]
     },
     "execution_count": 51,
     "metadata": {},
     "output_type": "execute_result"
    }
   ],
   "source": [
    "df[\"조회수\"].median()"
   ]
  },
  {
   "cell_type": "code",
   "execution_count": 52,
   "id": "15a83b58",
   "metadata": {},
   "outputs": [],
   "source": [
    "df.loc[df[\"조회수\"] == 0, \"조회수\"] = 200"
   ]
  },
  {
   "cell_type": "code",
   "execution_count": 53,
   "id": "c76f5a1c",
   "metadata": {},
   "outputs": [
    {
     "data": {
      "text/plain": [
       "200       3236\n",
       "300        315\n",
       "400        284\n",
       "100        260\n",
       "500        233\n",
       "          ... \n",
       "211000       1\n",
       "93000        1\n",
       "35000        1\n",
       "166000       1\n",
       "8200         1\n",
       "Name: 조회수, Length: 150, dtype: int64"
      ]
     },
     "execution_count": 53,
     "metadata": {},
     "output_type": "execute_result"
    }
   ],
   "source": [
    "df[\"조회수\"].value_counts()"
   ]
  },
  {
   "cell_type": "markdown",
   "id": "f4312cd7",
   "metadata": {},
   "source": [
    "## 누적판매수 int64로 바꾸기"
   ]
  },
  {
   "cell_type": "code",
   "execution_count": 54,
   "id": "93cd727c",
   "metadata": {},
   "outputs": [
    {
     "data": {
      "text/plain": [
       "0        4566\n",
       "50       1228\n",
       "100       325\n",
       "200       143\n",
       "300        85\n",
       "         ... \n",
       "9300        1\n",
       "3600        1\n",
       "28000       1\n",
       "3400        1\n",
       "8100        1\n",
       "Name: 누적판매수, Length: 72, dtype: int64"
      ]
     },
     "execution_count": 54,
     "metadata": {},
     "output_type": "execute_result"
    }
   ],
   "source": [
    "df[\"누적판매수\"].value_counts()"
   ]
  },
  {
   "cell_type": "markdown",
   "id": "74950352",
   "metadata": {},
   "source": [
    "### 누적판매수 0인거 전체평균으로 바꿔주기"
   ]
  },
  {
   "cell_type": "code",
   "execution_count": 55,
   "id": "4ebc2a8d",
   "metadata": {},
   "outputs": [
    {
     "data": {
      "text/plain": [
       "160.46268656716418"
      ]
     },
     "execution_count": 55,
     "metadata": {},
     "output_type": "execute_result"
    }
   ],
   "source": [
    "df[\"누적판매수\"].mean()"
   ]
  },
  {
   "cell_type": "code",
   "execution_count": 56,
   "id": "0c08495b",
   "metadata": {},
   "outputs": [],
   "source": [
    "df.loc[df[\"누적판매수\"] == 0, \"누적판매수\"] = 237"
   ]
  },
  {
   "cell_type": "code",
   "execution_count": 57,
   "id": "482beffd",
   "metadata": {},
   "outputs": [],
   "source": [
    "df['누적판매수'] = pd.to_numeric(df['누적판매수'])"
   ]
  },
  {
   "cell_type": "code",
   "execution_count": 58,
   "id": "d5666304",
   "metadata": {},
   "outputs": [
    {
     "name": "stdout",
     "output_type": "stream",
     "text": [
      "<class 'pandas.core.frame.DataFrame'>\n",
      "Int64Index: 6700 entries, 0 to 7036\n",
      "Data columns (total 18 columns):\n",
      " #   Column       Non-Null Count  Dtype  \n",
      "---  ------       --------------  -----  \n",
      " 0   하위카테고리       6700 non-null   object \n",
      " 1   색상           6700 non-null   object \n",
      " 2   상품명          6700 non-null   object \n",
      " 3   상품고유번호       6700 non-null   int64  \n",
      " 4   조회수          6700 non-null   int64  \n",
      " 5   누적판매수        6700 non-null   int64  \n",
      " 6   좋아요          6700 non-null   int64  \n",
      " 7   평점           6700 non-null   float64\n",
      " 8   상품태그정보       6700 non-null   object \n",
      " 9   가격           6700 non-null   int64  \n",
      " 10  18세이하        6700 non-null   float64\n",
      " 11  19세이상 23세이하  6700 non-null   float64\n",
      " 12  24세이상 28세이하  6700 non-null   float64\n",
      " 13  29세이상 33세이하  6700 non-null   float64\n",
      " 14  34세이상 39세이하  6700 non-null   float64\n",
      " 15  40세이상        6700 non-null   float64\n",
      " 16  남성           6700 non-null   float64\n",
      " 17  여성           6700 non-null   float64\n",
      "dtypes: float64(9), int64(5), object(4)\n",
      "memory usage: 994.5+ KB\n"
     ]
    }
   ],
   "source": [
    "df.info()"
   ]
  },
  {
   "cell_type": "code",
   "execution_count": 59,
   "id": "486e39e5",
   "metadata": {},
   "outputs": [],
   "source": [
    "df.reset_index(drop= True, inplace = True)"
   ]
  },
  {
   "cell_type": "markdown",
   "id": "87d21492",
   "metadata": {},
   "source": [
    "## 결측치 확인"
   ]
  },
  {
   "cell_type": "code",
   "execution_count": 60,
   "id": "7dfa1943",
   "metadata": {},
   "outputs": [
    {
     "data": {
      "text/plain": [
       "하위카테고리         0\n",
       "색상             0\n",
       "상품명            0\n",
       "상품고유번호         0\n",
       "조회수            0\n",
       "누적판매수          0\n",
       "좋아요            0\n",
       "평점             0\n",
       "상품태그정보         0\n",
       "가격             0\n",
       "18세이하          0\n",
       "19세이상 23세이하    0\n",
       "24세이상 28세이하    0\n",
       "29세이상 33세이하    0\n",
       "34세이상 39세이하    0\n",
       "40세이상          0\n",
       "남성             0\n",
       "여성             0\n",
       "dtype: int64"
      ]
     },
     "execution_count": 60,
     "metadata": {},
     "output_type": "execute_result"
    }
   ],
   "source": [
    "df.isna().sum()"
   ]
  },
  {
   "cell_type": "markdown",
   "id": "f142b9a9",
   "metadata": {},
   "source": [
    "## 좋아요 평점 가격"
   ]
  },
  {
   "cell_type": "code",
   "execution_count": 61,
   "id": "f2ae4429",
   "metadata": {},
   "outputs": [],
   "source": [
    "# 좋아요, 평점, 가격\n",
    "df['좋아요'] = df['좋아요'].apply(lambda x : float(x))\n",
    "df['평점'] = df['평점'].apply(lambda x : float(x))\n",
    "df['가격'] = df['가격'].apply(lambda x : int(x))"
   ]
  },
  {
   "cell_type": "markdown",
   "id": "d6b22890",
   "metadata": {},
   "source": [
    "## 첨도, 왜도 확인 후 정규화 작업"
   ]
  },
  {
   "cell_type": "code",
   "execution_count": 62,
   "id": "9bfd9130",
   "metadata": {},
   "outputs": [],
   "source": [
    "import seaborn as sns\n",
    "import numpy as np\n",
    "from sklearn.preprocessing import MinMaxScaler"
   ]
  },
  {
   "cell_type": "code",
   "execution_count": 63,
   "id": "0877e66d",
   "metadata": {},
   "outputs": [
    {
     "name": "stdout",
     "output_type": "stream",
     "text": [
      "상품고유번호          왜도: -1.16   첨도: 000.96\n",
      "조회수             왜도: 27.79   첨도: 987.39\n",
      "누적판매수           왜도: 46.66   첨도: 2883.41\n",
      "좋아요             왜도: 17.26   첨도: 420.68\n",
      "평점              왜도: -0.49   첨도: -01.72\n",
      "가격              왜도: 11.17   첨도: 189.79\n",
      "18세이하           왜도: 01.08   첨도: 001.09\n",
      "19세이상 23세이하     왜도: 00.61   첨도: -00.82\n",
      "24세이상 28세이하     왜도: 00.40   첨도: -01.14\n",
      "29세이상 33세이하     왜도: 00.95   첨도: 000.52\n",
      "34세이상 39세이하     왜도: 01.60   첨도: 004.05\n",
      "40세이상           왜도: 01.70   첨도: 004.39\n",
      "남성              왜도: 00.85   첨도: -00.93\n",
      "여성              왜도: 00.76   첨도: -01.03\n"
     ]
    }
   ],
   "source": [
    "numerical_feats = df.dtypes[df.dtypes != \"object\"].index\n",
    "\n",
    "for col in numerical_feats: \n",
    "  print('{:15}'.format(col), '왜도: {:05.2f}'.format(df[col].skew()) ,\n",
    "        ' ' , \n",
    "        '첨도: {:06.2f}'.format(df[col].kurt()) )"
   ]
  },
  {
   "cell_type": "markdown",
   "id": "69f165ca",
   "metadata": {},
   "source": [
    "### (1) 평점"
   ]
  },
  {
   "cell_type": "code",
   "execution_count": 64,
   "id": "c7060d69",
   "metadata": {},
   "outputs": [
    {
     "data": {
      "text/plain": [
       "0.0    2491\n",
       "5.0    1065\n",
       "4.8     944\n",
       "4.7     681\n",
       "4.9     488\n",
       "4.6     328\n",
       "4.5     219\n",
       "4.0     150\n",
       "4.3     102\n",
       "4.4      88\n",
       "3.0      36\n",
       "4.2      29\n",
       "4.1      24\n",
       "3.8      11\n",
       "3.7      10\n",
       "3.5       7\n",
       "3.9       6\n",
       "3.3       5\n",
       "2.0       5\n",
       "3.6       4\n",
       "1.0       3\n",
       "2.7       1\n",
       "2.3       1\n",
       "3.1       1\n",
       "3.2       1\n",
       "Name: 평점, dtype: int64"
      ]
     },
     "execution_count": 64,
     "metadata": {},
     "output_type": "execute_result"
    }
   ],
   "source": [
    "df[\"평점\"].value_counts()"
   ]
  },
  {
   "cell_type": "code",
   "execution_count": 65,
   "id": "c2f067af",
   "metadata": {},
   "outputs": [
    {
     "name": "stderr",
     "output_type": "stream",
     "text": [
      "C:\\ProgramData\\Anaconda3\\lib\\site-packages\\seaborn\\distributions.py:2557: FutureWarning: `distplot` is a deprecated function and will be removed in a future version. Please adapt your code to use either `displot` (a figure-level function with similar flexibility) or `histplot` (an axes-level function for histograms).\n",
      "  warnings.warn(msg, FutureWarning)\n"
     ]
    },
    {
     "data": {
      "text/plain": [
       "<AxesSubplot:xlabel='평점', ylabel='Density'>"
      ]
     },
     "execution_count": 65,
     "metadata": {},
     "output_type": "execute_result"
    },
    {
     "name": "stderr",
     "output_type": "stream",
     "text": [
      "C:\\ProgramData\\Anaconda3\\lib\\site-packages\\matplotlib\\backends\\backend_agg.py:238: RuntimeWarning: Glyph 54217 missing from current font.\n",
      "  font.set_text(s, 0.0, flags=flags)\n",
      "C:\\ProgramData\\Anaconda3\\lib\\site-packages\\matplotlib\\backends\\backend_agg.py:238: RuntimeWarning: Glyph 51216 missing from current font.\n",
      "  font.set_text(s, 0.0, flags=flags)\n",
      "C:\\ProgramData\\Anaconda3\\lib\\site-packages\\matplotlib\\backends\\backend_agg.py:201: RuntimeWarning: Glyph 54217 missing from current font.\n",
      "  font.set_text(s, 0, flags=flags)\n",
      "C:\\ProgramData\\Anaconda3\\lib\\site-packages\\matplotlib\\backends\\backend_agg.py:201: RuntimeWarning: Glyph 51216 missing from current font.\n",
      "  font.set_text(s, 0, flags=flags)\n"
     ]
    },
    {
     "data": {
      "image/png": "[encoded data removed]",
      "text/plain": [
       "<Figure size 432x288 with 1 Axes>"
      ]
     },
     "metadata": {
      "needs_background": "light"
     },
     "output_type": "display_data"
    }
   ],
   "source": [
    "sns.distplot(df['평점'])"
   ]
  },
  {
   "cell_type": "markdown",
   "id": "a785151c",
   "metadata": {},
   "source": [
    "### (2) 조회수"
   ]
  },
  {
   "cell_type": "code",
   "execution_count": 66,
   "id": "84d98954",
   "metadata": {},
   "outputs": [
    {
     "name": "stderr",
     "output_type": "stream",
     "text": [
      "C:\\ProgramData\\Anaconda3\\lib\\site-packages\\seaborn\\distributions.py:2557: FutureWarning: `distplot` is a deprecated function and will be removed in a future version. Please adapt your code to use either `displot` (a figure-level function with similar flexibility) or `histplot` (an axes-level function for histograms).\n",
      "  warnings.warn(msg, FutureWarning)\n"
     ]
    },
    {
     "data": {
      "text/plain": [
       "<AxesSubplot:xlabel='조회수', ylabel='Density'>"
      ]
     },
     "execution_count": 66,
     "metadata": {},
     "output_type": "execute_result"
    },
    {
     "name": "stderr",
     "output_type": "stream",
     "text": [
      "C:\\ProgramData\\Anaconda3\\lib\\site-packages\\matplotlib\\backends\\backend_agg.py:238: RuntimeWarning: Glyph 51312 missing from current font.\n",
      "  font.set_text(s, 0.0, flags=flags)\n",
      "C:\\ProgramData\\Anaconda3\\lib\\site-packages\\matplotlib\\backends\\backend_agg.py:238: RuntimeWarning: Glyph 54924 missing from current font.\n",
      "  font.set_text(s, 0.0, flags=flags)\n",
      "C:\\ProgramData\\Anaconda3\\lib\\site-packages\\matplotlib\\backends\\backend_agg.py:238: RuntimeWarning: Glyph 49688 missing from current font.\n",
      "  font.set_text(s, 0.0, flags=flags)\n",
      "C:\\ProgramData\\Anaconda3\\lib\\site-packages\\matplotlib\\backends\\backend_agg.py:201: RuntimeWarning: Glyph 51312 missing from current font.\n",
      "  font.set_text(s, 0, flags=flags)\n",
      "C:\\ProgramData\\Anaconda3\\lib\\site-packages\\matplotlib\\backends\\backend_agg.py:201: RuntimeWarning: Glyph 54924 missing from current font.\n",
      "  font.set_text(s, 0, flags=flags)\n",
      "C:\\ProgramData\\Anaconda3\\lib\\site-packages\\matplotlib\\backends\\backend_agg.py:201: RuntimeWarning: Glyph 49688 missing from current font.\n",
      "  font.set_text(s, 0, flags=flags)\n"
     ]
    },
    {
     "data": {
      "image/png": "[encoded data removed]",
      "text/plain": [
       "<Figure size 432x288 with 1 Axes>"
      ]
     },
     "metadata": {
      "needs_background": "light"
     },
     "output_type": "display_data"
    }
   ],
   "source": [
    "sns.distplot(df['조회수'])"
   ]
  },
  {
   "cell_type": "code",
   "execution_count": 67,
   "id": "da85fcda",
   "metadata": {},
   "outputs": [
    {
     "name": "stderr",
     "output_type": "stream",
     "text": [
      "C:\\ProgramData\\Anaconda3\\lib\\site-packages\\seaborn\\distributions.py:2557: FutureWarning: `distplot` is a deprecated function and will be removed in a future version. Please adapt your code to use either `displot` (a figure-level function with similar flexibility) or `histplot` (an axes-level function for histograms).\n",
      "  warnings.warn(msg, FutureWarning)\n",
      "C:\\ProgramData\\Anaconda3\\lib\\site-packages\\matplotlib\\backends\\backend_agg.py:238: RuntimeWarning: Glyph 51312 missing from current font.\n",
      "  font.set_text(s, 0.0, flags=flags)\n",
      "C:\\ProgramData\\Anaconda3\\lib\\site-packages\\matplotlib\\backends\\backend_agg.py:238: RuntimeWarning: Glyph 54924 missing from current font.\n",
      "  font.set_text(s, 0.0, flags=flags)\n",
      "C:\\ProgramData\\Anaconda3\\lib\\site-packages\\matplotlib\\backends\\backend_agg.py:238: RuntimeWarning: Glyph 49688 missing from current font.\n",
      "  font.set_text(s, 0.0, flags=flags)\n"
     ]
    },
    {
     "name": "stdout",
     "output_type": "stream",
     "text": [
      "왜도: 1.367\n",
      "첨도: 1.851\n"
     ]
    },
    {
     "name": "stderr",
     "output_type": "stream",
     "text": [
      "C:\\ProgramData\\Anaconda3\\lib\\site-packages\\matplotlib\\backends\\backend_agg.py:201: RuntimeWarning: Glyph 51312 missing from current font.\n",
      "  font.set_text(s, 0, flags=flags)\n",
      "C:\\ProgramData\\Anaconda3\\lib\\site-packages\\matplotlib\\backends\\backend_agg.py:201: RuntimeWarning: Glyph 54924 missing from current font.\n",
      "  font.set_text(s, 0, flags=flags)\n",
      "C:\\ProgramData\\Anaconda3\\lib\\site-packages\\matplotlib\\backends\\backend_agg.py:201: RuntimeWarning: Glyph 49688 missing from current font.\n",
      "  font.set_text(s, 0, flags=flags)\n"
     ]
    },
    {
     "data": {
      "image/png": "[encoded data removed]",
      "text/plain": [
       "<Figure size 432x288 with 1 Axes>"
      ]
     },
     "metadata": {
      "needs_background": "light"
     },
     "output_type": "display_data"
    }
   ],
   "source": [
    "sns.distplot(np.log1p(df['조회수']))\n",
    "\n",
    "print(\"왜도: {:.3f}\".format(np.log1p(df['조회수']).skew())) \n",
    "print(\"첨도: {:.3f}\".format(np.log1p(df['조회수']).kurt()))"
   ]
  },
  {
   "cell_type": "code",
   "execution_count": 68,
   "id": "858abca1",
   "metadata": {},
   "outputs": [
    {
     "name": "stderr",
     "output_type": "stream",
     "text": [
      "C:\\ProgramData\\Anaconda3\\lib\\site-packages\\seaborn\\distributions.py:2557: FutureWarning: `distplot` is a deprecated function and will be removed in a future version. Please adapt your code to use either `displot` (a figure-level function with similar flexibility) or `histplot` (an axes-level function for histograms).\n",
      "  warnings.warn(msg, FutureWarning)\n",
      "C:\\ProgramData\\Anaconda3\\lib\\site-packages\\seaborn\\distributions.py:306: UserWarning: Dataset has 0 variance; skipping density estimate.\n",
      "  warnings.warn(msg, UserWarning)\n"
     ]
    },
    {
     "data": {
      "text/plain": [
       "<AxesSubplot:ylabel='Density'>"
      ]
     },
     "execution_count": 68,
     "metadata": {},
     "output_type": "execute_result"
    },
    {
     "data": {
      "image/png": "[encoded data removed]",
      "text/plain": [
       "<Figure size 432x288 with 1 Axes>"
      ]
     },
     "metadata": {
      "needs_background": "light"
     },
     "output_type": "display_data"
    }
   ],
   "source": [
    "scaler = MinMaxScaler()\n",
    "sns.distplot(scaler.fit_transform([df['조회수']]))"
   ]
  },
  {
   "cell_type": "markdown",
   "id": "86a77171",
   "metadata": {},
   "source": [
    "### (3) 누적판매수"
   ]
  },
  {
   "cell_type": "code",
   "execution_count": 69,
   "id": "15a03afa",
   "metadata": {},
   "outputs": [
    {
     "name": "stderr",
     "output_type": "stream",
     "text": [
      "C:\\ProgramData\\Anaconda3\\lib\\site-packages\\seaborn\\distributions.py:2557: FutureWarning: `distplot` is a deprecated function and will be removed in a future version. Please adapt your code to use either `displot` (a figure-level function with similar flexibility) or `histplot` (an axes-level function for histograms).\n",
      "  warnings.warn(msg, FutureWarning)\n"
     ]
    },
    {
     "data": {
      "text/plain": [
       "<AxesSubplot:xlabel='누적판매수', ylabel='Density'>"
      ]
     },
     "execution_count": 69,
     "metadata": {},
     "output_type": "execute_result"
    },
    {
     "name": "stderr",
     "output_type": "stream",
     "text": [
      "C:\\ProgramData\\Anaconda3\\lib\\site-packages\\matplotlib\\backends\\backend_agg.py:238: RuntimeWarning: Glyph 45572 missing from current font.\n",
      "  font.set_text(s, 0.0, flags=flags)\n",
      "C:\\ProgramData\\Anaconda3\\lib\\site-packages\\matplotlib\\backends\\backend_agg.py:238: RuntimeWarning: Glyph 51201 missing from current font.\n",
      "  font.set_text(s, 0.0, flags=flags)\n",
      "C:\\ProgramData\\Anaconda3\\lib\\site-packages\\matplotlib\\backends\\backend_agg.py:238: RuntimeWarning: Glyph 54032 missing from current font.\n",
      "  font.set_text(s, 0.0, flags=flags)\n",
      "C:\\ProgramData\\Anaconda3\\lib\\site-packages\\matplotlib\\backends\\backend_agg.py:238: RuntimeWarning: Glyph 47588 missing from current font.\n",
      "  font.set_text(s, 0.0, flags=flags)\n",
      "C:\\ProgramData\\Anaconda3\\lib\\site-packages\\matplotlib\\backends\\backend_agg.py:238: RuntimeWarning: Glyph 49688 missing from current font.\n",
      "  font.set_text(s, 0.0, flags=flags)\n",
      "C:\\ProgramData\\Anaconda3\\lib\\site-packages\\matplotlib\\backends\\backend_agg.py:201: RuntimeWarning: Glyph 45572 missing from current font.\n",
      "  font.set_text(s, 0, flags=flags)\n",
      "C:\\ProgramData\\Anaconda3\\lib\\site-packages\\matplotlib\\backends\\backend_agg.py:201: RuntimeWarning: Glyph 51201 missing from current font.\n",
      "  font.set_text(s, 0, flags=flags)\n",
      "C:\\ProgramData\\Anaconda3\\lib\\site-packages\\matplotlib\\backends\\backend_agg.py:201: RuntimeWarning: Glyph 54032 missing from current font.\n",
      "  font.set_text(s, 0, flags=flags)\n",
      "C:\\ProgramData\\Anaconda3\\lib\\site-packages\\matplotlib\\backends\\backend_agg.py:201: RuntimeWarning: Glyph 47588 missing from current font.\n",
      "  font.set_text(s, 0, flags=flags)\n",
      "C:\\ProgramData\\Anaconda3\\lib\\site-packages\\matplotlib\\backends\\backend_agg.py:201: RuntimeWarning: Glyph 49688 missing from current font.\n",
      "  font.set_text(s, 0, flags=flags)\n"
     ]
    },
    {
     "data": {
      "image/png": "[encoded data removed]",
      "text/plain": [
       "<Figure size 432x288 with 1 Axes>"
      ]
     },
     "metadata": {
      "needs_background": "light"
     },
     "output_type": "display_data"
    }
   ],
   "source": [
    "sns.distplot(df['누적판매수'])"
   ]
  },
  {
   "cell_type": "code",
   "execution_count": 70,
   "id": "20bbd32b",
   "metadata": {},
   "outputs": [
    {
     "name": "stderr",
     "output_type": "stream",
     "text": [
      "C:\\ProgramData\\Anaconda3\\lib\\site-packages\\seaborn\\distributions.py:2557: FutureWarning: `distplot` is a deprecated function and will be removed in a future version. Please adapt your code to use either `displot` (a figure-level function with similar flexibility) or `histplot` (an axes-level function for histograms).\n",
      "  warnings.warn(msg, FutureWarning)\n",
      "C:\\ProgramData\\Anaconda3\\lib\\site-packages\\matplotlib\\backends\\backend_agg.py:238: RuntimeWarning: Glyph 45572 missing from current font.\n",
      "  font.set_text(s, 0.0, flags=flags)\n",
      "C:\\ProgramData\\Anaconda3\\lib\\site-packages\\matplotlib\\backends\\backend_agg.py:238: RuntimeWarning: Glyph 51201 missing from current font.\n",
      "  font.set_text(s, 0.0, flags=flags)\n",
      "C:\\ProgramData\\Anaconda3\\lib\\site-packages\\matplotlib\\backends\\backend_agg.py:238: RuntimeWarning: Glyph 54032 missing from current font.\n",
      "  font.set_text(s, 0.0, flags=flags)\n",
      "C:\\ProgramData\\Anaconda3\\lib\\site-packages\\matplotlib\\backends\\backend_agg.py:238: RuntimeWarning: Glyph 47588 missing from current font.\n",
      "  font.set_text(s, 0.0, flags=flags)\n",
      "C:\\ProgramData\\Anaconda3\\lib\\site-packages\\matplotlib\\backends\\backend_agg.py:238: RuntimeWarning: Glyph 49688 missing from current font.\n",
      "  font.set_text(s, 0.0, flags=flags)\n"
     ]
    },
    {
     "name": "stdout",
     "output_type": "stream",
     "text": [
      "왜도: 0.638\n",
      "첨도: 5.511\n"
     ]
    },
    {
     "name": "stderr",
     "output_type": "stream",
     "text": [
      "C:\\ProgramData\\Anaconda3\\lib\\site-packages\\matplotlib\\backends\\backend_agg.py:201: RuntimeWarning: Glyph 45572 missing from current font.\n",
      "  font.set_text(s, 0, flags=flags)\n",
      "C:\\ProgramData\\Anaconda3\\lib\\site-packages\\matplotlib\\backends\\backend_agg.py:201: RuntimeWarning: Glyph 51201 missing from current font.\n",
      "  font.set_text(s, 0, flags=flags)\n",
      "C:\\ProgramData\\Anaconda3\\lib\\site-packages\\matplotlib\\backends\\backend_agg.py:201: RuntimeWarning: Glyph 54032 missing from current font.\n",
      "  font.set_text(s, 0, flags=flags)\n",
      "C:\\ProgramData\\Anaconda3\\lib\\site-packages\\matplotlib\\backends\\backend_agg.py:201: RuntimeWarning: Glyph 47588 missing from current font.\n",
      "  font.set_text(s, 0, flags=flags)\n",
      "C:\\ProgramData\\Anaconda3\\lib\\site-packages\\matplotlib\\backends\\backend_agg.py:201: RuntimeWarning: Glyph 49688 missing from current font.\n",
      "  font.set_text(s, 0, flags=flags)\n"
     ]
    },
    {
     "data": {
      "image/png": "[encoded data removed]",
      "text/plain": [
       "<Figure size 432x288 with 1 Axes>"
      ]
     },
     "metadata": {
      "needs_background": "light"
     },
     "output_type": "display_data"
    }
   ],
   "source": [
    "sns.distplot(np.log1p(df['누적판매수']))\n",
    "\n",
    "print(\"왜도: {:.3f}\".format(np.log1p(df['누적판매수']).skew())) \n",
    "print(\"첨도: {:.3f}\".format(np.log1p(df['누적판매수']).kurt()))"
   ]
  },
  {
   "cell_type": "markdown",
   "id": "1239a657",
   "metadata": {},
   "source": [
    "### (4)좋아요"
   ]
  },
  {
   "cell_type": "code",
   "execution_count": 71,
   "id": "a910282b",
   "metadata": {},
   "outputs": [
    {
     "name": "stderr",
     "output_type": "stream",
     "text": [
      "C:\\ProgramData\\Anaconda3\\lib\\site-packages\\seaborn\\distributions.py:2557: FutureWarning: `distplot` is a deprecated function and will be removed in a future version. Please adapt your code to use either `displot` (a figure-level function with similar flexibility) or `histplot` (an axes-level function for histograms).\n",
      "  warnings.warn(msg, FutureWarning)\n"
     ]
    },
    {
     "data": {
      "text/plain": [
       "<AxesSubplot:xlabel='좋아요', ylabel='Density'>"
      ]
     },
     "execution_count": 71,
     "metadata": {},
     "output_type": "execute_result"
    },
    {
     "name": "stderr",
     "output_type": "stream",
     "text": [
      "C:\\ProgramData\\Anaconda3\\lib\\site-packages\\matplotlib\\backends\\backend_agg.py:238: RuntimeWarning: Glyph 51339 missing from current font.\n",
      "  font.set_text(s, 0.0, flags=flags)\n",
      "C:\\ProgramData\\Anaconda3\\lib\\site-packages\\matplotlib\\backends\\backend_agg.py:238: RuntimeWarning: Glyph 50500 missing from current font.\n",
      "  font.set_text(s, 0.0, flags=flags)\n",
      "C:\\ProgramData\\Anaconda3\\lib\\site-packages\\matplotlib\\backends\\backend_agg.py:238: RuntimeWarning: Glyph 50836 missing from current font.\n",
      "  font.set_text(s, 0.0, flags=flags)\n",
      "C:\\ProgramData\\Anaconda3\\lib\\site-packages\\matplotlib\\backends\\backend_agg.py:201: RuntimeWarning: Glyph 51339 missing from current font.\n",
      "  font.set_text(s, 0, flags=flags)\n",
      "C:\\ProgramData\\Anaconda3\\lib\\site-packages\\matplotlib\\backends\\backend_agg.py:201: RuntimeWarning: Glyph 50500 missing from current font.\n",
      "  font.set_text(s, 0, flags=flags)\n",
      "C:\\ProgramData\\Anaconda3\\lib\\site-packages\\matplotlib\\backends\\backend_agg.py:201: RuntimeWarning: Glyph 50836 missing from current font.\n",
      "  font.set_text(s, 0, flags=flags)\n"
     ]
    },
    {
     "data": {
      "image/png": "[encoded data removed]",
      "text/plain": [
       "<Figure size 432x288 with 1 Axes>"
      ]
     },
     "metadata": {
      "needs_background": "light"
     },
     "output_type": "display_data"
    }
   ],
   "source": [
    "sns.distplot(df['좋아요'])"
   ]
  },
  {
   "cell_type": "code",
   "execution_count": 72,
   "id": "ce773a95",
   "metadata": {},
   "outputs": [
    {
     "name": "stderr",
     "output_type": "stream",
     "text": [
      "C:\\ProgramData\\Anaconda3\\lib\\site-packages\\seaborn\\distributions.py:2557: FutureWarning: `distplot` is a deprecated function and will be removed in a future version. Please adapt your code to use either `displot` (a figure-level function with similar flexibility) or `histplot` (an axes-level function for histograms).\n",
      "  warnings.warn(msg, FutureWarning)\n",
      "C:\\ProgramData\\Anaconda3\\lib\\site-packages\\matplotlib\\backends\\backend_agg.py:238: RuntimeWarning: Glyph 51339 missing from current font.\n",
      "  font.set_text(s, 0.0, flags=flags)\n",
      "C:\\ProgramData\\Anaconda3\\lib\\site-packages\\matplotlib\\backends\\backend_agg.py:238: RuntimeWarning: Glyph 50500 missing from current font.\n",
      "  font.set_text(s, 0.0, flags=flags)\n",
      "C:\\ProgramData\\Anaconda3\\lib\\site-packages\\matplotlib\\backends\\backend_agg.py:238: RuntimeWarning: Glyph 50836 missing from current font.\n",
      "  font.set_text(s, 0.0, flags=flags)\n"
     ]
    },
    {
     "name": "stdout",
     "output_type": "stream",
     "text": [
      "왜도: 0.180\n",
      "첨도: -0.197\n"
     ]
    },
    {
     "name": "stderr",
     "output_type": "stream",
     "text": [
      "C:\\ProgramData\\Anaconda3\\lib\\site-packages\\matplotlib\\backends\\backend_agg.py:201: RuntimeWarning: Glyph 51339 missing from current font.\n",
      "  font.set_text(s, 0, flags=flags)\n",
      "C:\\ProgramData\\Anaconda3\\lib\\site-packages\\matplotlib\\backends\\backend_agg.py:201: RuntimeWarning: Glyph 50500 missing from current font.\n",
      "  font.set_text(s, 0, flags=flags)\n",
      "C:\\ProgramData\\Anaconda3\\lib\\site-packages\\matplotlib\\backends\\backend_agg.py:201: RuntimeWarning: Glyph 50836 missing from current font.\n",
      "  font.set_text(s, 0, flags=flags)\n"
     ]
    },
    {
     "data": {
      "image/png": "[encoded data removed]",
      "text/plain": [
       "<Figure size 432x288 with 1 Axes>"
      ]
     },
     "metadata": {
      "needs_background": "light"
     },
     "output_type": "display_data"
    }
   ],
   "source": [
    "sns.distplot(np.log1p(df['좋아요']))\n",
    "\n",
    "print(\"왜도: {:.3f}\".format(np.log1p(df['좋아요']).skew())) \n",
    "print(\"첨도: {:.3f}\".format(np.log1p(df['좋아요']).kurt()))"
   ]
  },
  {
   "cell_type": "markdown",
   "id": "29bb6ee2",
   "metadata": {},
   "source": [
    "## 색상"
   ]
  },
  {
   "cell_type": "code",
   "execution_count": 73,
   "id": "f6d53a0b",
   "metadata": {},
   "outputs": [
    {
     "data": {
      "text/plain": [
       "검정색      488\n",
       "아이보리     411\n",
       "카키       385\n",
       "베이지색     373\n",
       "회색       356\n",
       "        ... \n",
       "트로피컬       1\n",
       "헤링본        1\n",
       "패치워크       1\n",
       "글렌 체크      1\n",
       "깅엄 체크      1\n",
       "Name: 색상, Length: 65, dtype: int64"
      ]
     },
     "execution_count": 73,
     "metadata": {},
     "output_type": "execute_result"
    }
   ],
   "source": [
    "df[\"색상\"].value_counts()"
   ]
  },
  {
   "cell_type": "markdown",
   "id": "bd92ffd5",
   "metadata": {},
   "source": [
    "### 평균인코딩"
   ]
  },
  {
   "cell_type": "code",
   "execution_count": 74,
   "id": "484fd7aa",
   "metadata": {},
   "outputs": [],
   "source": [
    "from category_encoders.target_encoder import TargetEncoder\n",
    "encoder=TargetEncoder(smoothing=1)\n",
    "df['색상2']=encoder.fit_transform(df['색상'],df['평점'])"
   ]
  },
  {
   "cell_type": "code",
   "execution_count": 75,
   "id": "7b254aed",
   "metadata": {},
   "outputs": [
    {
     "data": {
      "text/plain": [
       "검정색      488\n",
       "아이보리     411\n",
       "카키       385\n",
       "베이지색     373\n",
       "회색       356\n",
       "        ... \n",
       "트로피컬       1\n",
       "헤링본        1\n",
       "패치워크       1\n",
       "글렌 체크      1\n",
       "깅엄 체크      1\n",
       "Name: 색상, Length: 65, dtype: int64"
      ]
     },
     "execution_count": 75,
     "metadata": {},
     "output_type": "execute_result"
    }
   ],
   "source": [
    "df['색상'].value_counts()"
   ]
  },
  {
   "cell_type": "code",
   "execution_count": 77,
   "id": "4ae13ec7",
   "metadata": {},
   "outputs": [
    {
     "data": {
      "text/plain": [
       "4.744877    488\n",
       "3.554258    411\n",
       "2.561818    385\n",
       "2.809920    373\n",
       "4.061798    356\n",
       "           ... \n",
       "2.379258      4\n",
       "0.353664      3\n",
       "1.733580      3\n",
       "2.589019      2\n",
       "4.087689      2\n",
       "Name: 색상2, Length: 61, dtype: int64"
      ]
     },
     "execution_count": 77,
     "metadata": {},
     "output_type": "execute_result"
    }
   ],
   "source": [
    "df['색상2'].value_counts()"
   ]
  },
  {
   "cell_type": "markdown",
   "id": "f7e1abf6",
   "metadata": {},
   "source": [
    "## 상품태그 정보"
   ]
  },
  {
   "cell_type": "code",
   "execution_count": 78,
   "id": "63695d57",
   "metadata": {},
   "outputs": [],
   "source": [
    "#부호를 제거해주는 함수\n",
    "import re\n",
    "def alpha_num(text):\n",
    "    return re.sub(r'[^ㄱ-ㅎㅏ-ㅣ가-힣 0-9 ]', '', text)"
   ]
  },
  {
   "cell_type": "code",
   "execution_count": 79,
   "id": "636e0260",
   "metadata": {},
   "outputs": [],
   "source": [
    "df['상품태그정보']=df['상품태그정보'].apply(alpha_num)"
   ]
  },
  {
   "cell_type": "code",
   "execution_count": 80,
   "id": "45056e44",
   "metadata": {},
   "outputs": [
    {
     "data": {
      "text/html": [
       "<div>\n",
       "<style scoped>\n",
       "    .dataframe tbody tr th:only-of-type {\n",
       "        vertical-align: middle;\n",
       "    }\n",
       "\n",
       "    .dataframe tbody tr th {\n",
       "        vertical-align: top;\n",
       "    }\n",
       "\n",
       "    .dataframe thead th {\n",
       "        text-align: right;\n",
       "    }\n",
       "</style>\n",
       "<table border=\"1\" class=\"dataframe\">\n",
       "  <thead>\n",
       "    <tr style=\"text-align: right;\">\n",
       "      <th></th>\n",
       "      <th>하위카테고리</th>\n",
       "      <th>색상</th>\n",
       "      <th>상품명</th>\n",
       "      <th>상품고유번호</th>\n",
       "      <th>조회수</th>\n",
       "      <th>누적판매수</th>\n",
       "      <th>좋아요</th>\n",
       "      <th>평점</th>\n",
       "      <th>상품태그정보</th>\n",
       "      <th>가격</th>\n",
       "      <th>18세이하</th>\n",
       "      <th>19세이상 23세이하</th>\n",
       "      <th>24세이상 28세이하</th>\n",
       "      <th>29세이상 33세이하</th>\n",
       "      <th>34세이상 39세이하</th>\n",
       "      <th>40세이상</th>\n",
       "      <th>남성</th>\n",
       "      <th>여성</th>\n",
       "      <th>색상2</th>\n",
       "    </tr>\n",
       "  </thead>\n",
       "  <tbody>\n",
       "    <tr>\n",
       "      <th>0</th>\n",
       "      <td>후드 집업</td>\n",
       "      <td>흰색</td>\n",
       "      <td>와핑 후드집업 크림 JJOT7203</td>\n",
       "      <td>836977</td>\n",
       "      <td>4400</td>\n",
       "      <td>1000</td>\n",
       "      <td>4018.0</td>\n",
       "      <td>4.7</td>\n",
       "      <td>집업 후드 후드집업 후드티</td>\n",
       "      <td>37900</td>\n",
       "      <td>0.46</td>\n",
       "      <td>0.20</td>\n",
       "      <td>0.08</td>\n",
       "      <td>0.04</td>\n",
       "      <td>0.03</td>\n",
       "      <td>0.19</td>\n",
       "      <td>0.15</td>\n",
       "      <td>0.85</td>\n",
       "      <td>2.529598</td>\n",
       "    </tr>\n",
       "    <tr>\n",
       "      <th>1</th>\n",
       "      <td>후드 집업</td>\n",
       "      <td>흰색</td>\n",
       "      <td>MIX HOOD JACKET</td>\n",
       "      <td>1599014</td>\n",
       "      <td>10000</td>\n",
       "      <td>500</td>\n",
       "      <td>2544.0</td>\n",
       "      <td>4.6</td>\n",
       "      <td>오버핏후드 자켓 집업 후드 집업후드</td>\n",
       "      <td>79000</td>\n",
       "      <td>0.31</td>\n",
       "      <td>0.20</td>\n",
       "      <td>0.20</td>\n",
       "      <td>0.12</td>\n",
       "      <td>0.07</td>\n",
       "      <td>0.10</td>\n",
       "      <td>0.57</td>\n",
       "      <td>0.43</td>\n",
       "      <td>2.529598</td>\n",
       "    </tr>\n",
       "    <tr>\n",
       "      <th>2</th>\n",
       "      <td>후드 집업</td>\n",
       "      <td>흰색</td>\n",
       "      <td>Classic Raglan Hoodie Zip Up [White Grey]</td>\n",
       "      <td>1736613</td>\n",
       "      <td>2500</td>\n",
       "      <td>300</td>\n",
       "      <td>990.0</td>\n",
       "      <td>4.8</td>\n",
       "      <td>투웨이 나그랑 후드 집업 후드집업 이지웨어</td>\n",
       "      <td>53000</td>\n",
       "      <td>0.30</td>\n",
       "      <td>0.37</td>\n",
       "      <td>0.18</td>\n",
       "      <td>0.06</td>\n",
       "      <td>0.02</td>\n",
       "      <td>0.07</td>\n",
       "      <td>0.49</td>\n",
       "      <td>0.51</td>\n",
       "      <td>2.529598</td>\n",
       "    </tr>\n",
       "    <tr>\n",
       "      <th>3</th>\n",
       "      <td>후드 집업</td>\n",
       "      <td>흰색</td>\n",
       "      <td>하이 양기모 후드 집업 크림 HJHD2082</td>\n",
       "      <td>1188563</td>\n",
       "      <td>800</td>\n",
       "      <td>100</td>\n",
       "      <td>639.0</td>\n",
       "      <td>4.7</td>\n",
       "      <td>기모후드집업 양기모 양기모후드 집업 후드집업 기모</td>\n",
       "      <td>32900</td>\n",
       "      <td>0.44</td>\n",
       "      <td>0.27</td>\n",
       "      <td>0.11</td>\n",
       "      <td>0.02</td>\n",
       "      <td>0.03</td>\n",
       "      <td>0.13</td>\n",
       "      <td>0.24</td>\n",
       "      <td>0.76</td>\n",
       "      <td>2.529598</td>\n",
       "    </tr>\n",
       "    <tr>\n",
       "      <th>4</th>\n",
       "      <td>후드 집업</td>\n",
       "      <td>흰색</td>\n",
       "      <td>후디드 스웨트 집업 [화이트]</td>\n",
       "      <td>1211720</td>\n",
       "      <td>1700</td>\n",
       "      <td>200</td>\n",
       "      <td>403.0</td>\n",
       "      <td>4.8</td>\n",
       "      <td>스웨트셋업 스웨트컬렉션 이지웨어 집업재킷 단독후디 한정후디 단독 무탠픽업 베이식</td>\n",
       "      <td>34900</td>\n",
       "      <td>0.32</td>\n",
       "      <td>0.34</td>\n",
       "      <td>0.13</td>\n",
       "      <td>0.05</td>\n",
       "      <td>0.03</td>\n",
       "      <td>0.13</td>\n",
       "      <td>0.43</td>\n",
       "      <td>0.57</td>\n",
       "      <td>2.529598</td>\n",
       "    </tr>\n",
       "  </tbody>\n",
       "</table>\n",
       "</div>"
      ],
      "text/plain": [
       "  하위카테고리  색상                                        상품명   상품고유번호    조회수  \\\n",
       "0  후드 집업  흰색                        와핑 후드집업 크림 JJOT7203   836977   4400   \n",
       "1  후드 집업  흰색                            MIX HOOD JACKET  1599014  10000   \n",
       "2  후드 집업  흰색  Classic Raglan Hoodie Zip Up [White Grey]  1736613   2500   \n",
       "3  후드 집업  흰색                   하이 양기모 후드 집업 크림 HJHD2082  1188563    800   \n",
       "4  후드 집업  흰색                           후디드 스웨트 집업 [화이트]  1211720   1700   \n",
       "\n",
       "   누적판매수     좋아요   평점                                        상품태그정보     가격  \\\n",
       "0   1000  4018.0  4.7                                집업 후드 후드집업 후드티  37900   \n",
       "1    500  2544.0  4.6                           오버핏후드 자켓 집업 후드 집업후드  79000   \n",
       "2    300   990.0  4.8                       투웨이 나그랑 후드 집업 후드집업 이지웨어  53000   \n",
       "3    100   639.0  4.7                   기모후드집업 양기모 양기모후드 집업 후드집업 기모  32900   \n",
       "4    200   403.0  4.8  스웨트셋업 스웨트컬렉션 이지웨어 집업재킷 단독후디 한정후디 단독 무탠픽업 베이식  34900   \n",
       "\n",
       "   18세이하  19세이상 23세이하  24세이상 28세이하  29세이상 33세이하  34세이상 39세이하  40세이상    남성  \\\n",
       "0   0.46         0.20         0.08         0.04         0.03   0.19  0.15   \n",
       "1   0.31         0.20         0.20         0.12         0.07   0.10  0.57   \n",
       "2   0.30         0.37         0.18         0.06         0.02   0.07  0.49   \n",
       "3   0.44         0.27         0.11         0.02         0.03   0.13  0.24   \n",
       "4   0.32         0.34         0.13         0.05         0.03   0.13  0.43   \n",
       "\n",
       "     여성       색상2  \n",
       "0  0.85  2.529598  \n",
       "1  0.43  2.529598  \n",
       "2  0.51  2.529598  \n",
       "3  0.76  2.529598  \n",
       "4  0.57  2.529598  "
      ]
     },
     "execution_count": 80,
     "metadata": {},
     "output_type": "execute_result"
    }
   ],
   "source": [
    "df.head()"
   ]
  },
  {
   "cell_type": "markdown",
   "id": "6c15e5a9",
   "metadata": {},
   "source": [
    "### 1. 카운트 기반 임베딩\n",
    "TF- IDF : 단어의 특성 문서내 중요도 산출"
   ]
  },
  {
   "cell_type": "code",
   "execution_count": 81,
   "id": "165c2429",
   "metadata": {},
   "outputs": [
    {
     "data": {
      "text/plain": [
       "TfidfVectorizer(max_features=128)"
      ]
     },
     "execution_count": 81,
     "metadata": {},
     "output_type": "execute_result"
    }
   ],
   "source": [
    "from sklearn.feature_extraction.text import TfidfVectorizer\n",
    "\n",
    "v = TfidfVectorizer(max_features = 128) # max_features를 통해 최대 몇 개의 단어를 벡터로 바꿀 것인지 결정\n",
    "v.fit(df['상품태그정보']) "
   ]
  },
  {
   "cell_type": "code",
   "execution_count": 82,
   "id": "7f9b6f8d",
   "metadata": {},
   "outputs": [
    {
     "name": "stdout",
     "output_type": "stream",
     "text": [
      "{'집업': 96, '후드': 120, '후드집업': 122, '후드티': 123, '오버핏후드': 86, '자켓': 91, '집업후드': 97, '이지웨어': 90, '기모': 14, '스웨트컬렉션': 65, '단독후디': 30, '단독': 29, '무탠픽업': 47, '베이식': 50, '한정후드': 117, '후디': 125, '맨투맨': 44, '스웻': 66, '트레이닝': 107, '후드티셔츠': 124, '후리스': 127, '후디집업': 126, '크롭': 104, '캐주얼': 100, '로고': 38, '22신상품': 1, '셋업': 60, '니트집업': 25, '니트': 23, '기모후드': 15, '오버핏': 82, '가디건': 3, '후드자켓': 121, '트레이닝세트': 109, '트레이닝복': 108, '남녀공용': 20, '아우터': 69, '루즈핏': 41, '꾸안꾸': 19, '간절기아우터': 9, '점퍼': 93, '데일리룩': 33, '여성': 76, '오버사이즈': 81, '데일리': 31, '미니멀': 49, '블루종': 58, '간절기자켓': 10, '21컬렉션': 0, '플리스': 116, '환절기아우터': 119, '여름자켓': 75, '캐주얼아우터': 101, '출근룩': 98, '남자자켓': 22, '크롭가디건': 105, '여자가디건': 79, '데일리가디건': 32, '겨울니트': 11, '여성자켓': 78, '재킷': 92, '22컬렉션': 2, '가을자켓': 5, '울니트': 88, '겨울아우터': 12, '패딩': 112, '봄자켓': 54, '가죽자켓': 7, '라이더자켓': 35, '라이더': 34, '무스탕': 45, '무톤자켓': 48, '레더': 36, '레더자켓': 37, '비건레더': 59, '가죽': 6, '트위드자켓': 111, '양가죽': 70, '오버핏자켓': 85, '블레이저': 56, '에코레더': 71, '코트': 103, '캐주얼자켓': 102, '울자켓': 89, '싱글자켓': 67, '크롭자켓': 106, '싱글재킷': 68, '블레이져': 57, '여름가디건': 73, '여성가디건': 77, '니트가디건': 24, '카디건': 99, '브이넥가디건': 55, '스웨터': 63, '스웨터가디건': 64, '여름니트': 74, '여자니트': 80, '봄가디건': 52, '남자가디건': 21, '오버핏가디건': 83, '트위드': 110, '가을가디건': 4, '헤비아우터': 118, '베이직가디건': 51, '기본가디건': 16, '기본니트': 17, '니트컬렉션': 26, '봄니트': 53, '간절기가디건': 8, '울가디건': 87, '루즈핏가디건': 42, '긴팔니트': 18, '오버핏니트': 84, '에코퍼': 72, '린넨자켓': 43, '페이크퍼': 115, '퍼자켓': 114, '무스탕자켓': 46, '패딩점퍼': 113, '다운점퍼': 28, '롱패딩': 40, '구스다운': 13, '롱다운': 39, '다운': 27, '셋업자켓': 61, '정장자켓': 95, '수트': 62, '정장': 94}\n"
     ]
    }
   ],
   "source": [
    "print(v.vocabulary_) # 벡터화된 단어들 사전"
   ]
  },
  {
   "cell_type": "code",
   "execution_count": 83,
   "id": "3d36c769",
   "metadata": {},
   "outputs": [
    {
     "name": "stdout",
     "output_type": "stream",
     "text": [
      "[[0. 0. 0. ... 0. 0. 0.]\n",
      " [0. 0. 0. ... 0. 0. 0.]\n",
      " [0. 0. 0. ... 0. 0. 0.]\n",
      " ...\n",
      " [0. 0. 0. ... 0. 0. 0.]\n",
      " [0. 0. 0. ... 0. 0. 0.]\n",
      " [0. 0. 0. ... 0. 0. 0.]]\n"
     ]
    }
   ],
   "source": [
    "x = v.transform(df['상품태그정보']).toarray()\n",
    "print(x)"
   ]
  },
  {
   "cell_type": "code",
   "execution_count": 84,
   "id": "38f0f0d2",
   "metadata": {},
   "outputs": [
    {
     "name": "stdout",
     "output_type": "stream",
     "text": [
      "(6700, 128)\n",
      "(6700, 19)\n"
     ]
    }
   ],
   "source": [
    "print(x.shape) # 128개의 max 단어를 설정했기 때문에\n",
    "print(df.shape)"
   ]
  },
  {
   "cell_type": "code",
   "execution_count": 85,
   "id": "d8f9a601",
   "metadata": {},
   "outputs": [],
   "source": [
    "x = pd.DataFrame(x)\n",
    "temp = []\n",
    "for i in range(len(x)):\n",
    "  temp.append(list(x.iloc[i,:]))\n",
    "df['preprocessed_text'] = temp"
   ]
  },
  {
   "cell_type": "code",
   "execution_count": 86,
   "id": "a87ed7ba",
   "metadata": {},
   "outputs": [
    {
     "data": {
      "text/html": [
       "<div>\n",
       "<style scoped>\n",
       "    .dataframe tbody tr th:only-of-type {\n",
       "        vertical-align: middle;\n",
       "    }\n",
       "\n",
       "    .dataframe tbody tr th {\n",
       "        vertical-align: top;\n",
       "    }\n",
       "\n",
       "    .dataframe thead th {\n",
       "        text-align: right;\n",
       "    }\n",
       "</style>\n",
       "<table border=\"1\" class=\"dataframe\">\n",
       "  <thead>\n",
       "    <tr style=\"text-align: right;\">\n",
       "      <th></th>\n",
       "      <th>하위카테고리</th>\n",
       "      <th>색상</th>\n",
       "      <th>상품명</th>\n",
       "      <th>상품고유번호</th>\n",
       "      <th>조회수</th>\n",
       "      <th>누적판매수</th>\n",
       "      <th>좋아요</th>\n",
       "      <th>평점</th>\n",
       "      <th>상품태그정보</th>\n",
       "      <th>가격</th>\n",
       "      <th>18세이하</th>\n",
       "      <th>19세이상 23세이하</th>\n",
       "      <th>24세이상 28세이하</th>\n",
       "      <th>29세이상 33세이하</th>\n",
       "      <th>34세이상 39세이하</th>\n",
       "      <th>40세이상</th>\n",
       "      <th>남성</th>\n",
       "      <th>여성</th>\n",
       "      <th>색상2</th>\n",
       "      <th>preprocessed_text</th>\n",
       "    </tr>\n",
       "  </thead>\n",
       "  <tbody>\n",
       "    <tr>\n",
       "      <th>0</th>\n",
       "      <td>후드 집업</td>\n",
       "      <td>흰색</td>\n",
       "      <td>와핑 후드집업 크림 JJOT7203</td>\n",
       "      <td>836977</td>\n",
       "      <td>4400</td>\n",
       "      <td>1000</td>\n",
       "      <td>4018.0</td>\n",
       "      <td>4.7</td>\n",
       "      <td>집업 후드 후드집업 후드티</td>\n",
       "      <td>37900</td>\n",
       "      <td>0.46</td>\n",
       "      <td>0.20</td>\n",
       "      <td>0.08</td>\n",
       "      <td>0.04</td>\n",
       "      <td>0.03</td>\n",
       "      <td>0.19</td>\n",
       "      <td>0.15</td>\n",
       "      <td>0.85</td>\n",
       "      <td>2.529598</td>\n",
       "      <td>[0.0, 0.0, 0.0, 0.0, 0.0, 0.0, 0.0, 0.0, 0.0, ...</td>\n",
       "    </tr>\n",
       "    <tr>\n",
       "      <th>1</th>\n",
       "      <td>후드 집업</td>\n",
       "      <td>흰색</td>\n",
       "      <td>MIX HOOD JACKET</td>\n",
       "      <td>1599014</td>\n",
       "      <td>10000</td>\n",
       "      <td>500</td>\n",
       "      <td>2544.0</td>\n",
       "      <td>4.6</td>\n",
       "      <td>오버핏후드 자켓 집업 후드 집업후드</td>\n",
       "      <td>79000</td>\n",
       "      <td>0.31</td>\n",
       "      <td>0.20</td>\n",
       "      <td>0.20</td>\n",
       "      <td>0.12</td>\n",
       "      <td>0.07</td>\n",
       "      <td>0.10</td>\n",
       "      <td>0.57</td>\n",
       "      <td>0.43</td>\n",
       "      <td>2.529598</td>\n",
       "      <td>[0.0, 0.0, 0.0, 0.0, 0.0, 0.0, 0.0, 0.0, 0.0, ...</td>\n",
       "    </tr>\n",
       "    <tr>\n",
       "      <th>2</th>\n",
       "      <td>후드 집업</td>\n",
       "      <td>흰색</td>\n",
       "      <td>Classic Raglan Hoodie Zip Up [White Grey]</td>\n",
       "      <td>1736613</td>\n",
       "      <td>2500</td>\n",
       "      <td>300</td>\n",
       "      <td>990.0</td>\n",
       "      <td>4.8</td>\n",
       "      <td>투웨이 나그랑 후드 집업 후드집업 이지웨어</td>\n",
       "      <td>53000</td>\n",
       "      <td>0.30</td>\n",
       "      <td>0.37</td>\n",
       "      <td>0.18</td>\n",
       "      <td>0.06</td>\n",
       "      <td>0.02</td>\n",
       "      <td>0.07</td>\n",
       "      <td>0.49</td>\n",
       "      <td>0.51</td>\n",
       "      <td>2.529598</td>\n",
       "      <td>[0.0, 0.0, 0.0, 0.0, 0.0, 0.0, 0.0, 0.0, 0.0, ...</td>\n",
       "    </tr>\n",
       "    <tr>\n",
       "      <th>3</th>\n",
       "      <td>후드 집업</td>\n",
       "      <td>흰색</td>\n",
       "      <td>하이 양기모 후드 집업 크림 HJHD2082</td>\n",
       "      <td>1188563</td>\n",
       "      <td>800</td>\n",
       "      <td>100</td>\n",
       "      <td>639.0</td>\n",
       "      <td>4.7</td>\n",
       "      <td>기모후드집업 양기모 양기모후드 집업 후드집업 기모</td>\n",
       "      <td>32900</td>\n",
       "      <td>0.44</td>\n",
       "      <td>0.27</td>\n",
       "      <td>0.11</td>\n",
       "      <td>0.02</td>\n",
       "      <td>0.03</td>\n",
       "      <td>0.13</td>\n",
       "      <td>0.24</td>\n",
       "      <td>0.76</td>\n",
       "      <td>2.529598</td>\n",
       "      <td>[0.0, 0.0, 0.0, 0.0, 0.0, 0.0, 0.0, 0.0, 0.0, ...</td>\n",
       "    </tr>\n",
       "    <tr>\n",
       "      <th>4</th>\n",
       "      <td>후드 집업</td>\n",
       "      <td>흰색</td>\n",
       "      <td>후디드 스웨트 집업 [화이트]</td>\n",
       "      <td>1211720</td>\n",
       "      <td>1700</td>\n",
       "      <td>200</td>\n",
       "      <td>403.0</td>\n",
       "      <td>4.8</td>\n",
       "      <td>스웨트셋업 스웨트컬렉션 이지웨어 집업재킷 단독후디 한정후디 단독 무탠픽업 베이식</td>\n",
       "      <td>34900</td>\n",
       "      <td>0.32</td>\n",
       "      <td>0.34</td>\n",
       "      <td>0.13</td>\n",
       "      <td>0.05</td>\n",
       "      <td>0.03</td>\n",
       "      <td>0.13</td>\n",
       "      <td>0.43</td>\n",
       "      <td>0.57</td>\n",
       "      <td>2.529598</td>\n",
       "      <td>[0.0, 0.0, 0.0, 0.0, 0.0, 0.0, 0.0, 0.0, 0.0, ...</td>\n",
       "    </tr>\n",
       "  </tbody>\n",
       "</table>\n",
       "</div>"
      ],
      "text/plain": [
       "  하위카테고리  색상                                        상품명   상품고유번호    조회수  \\\n",
       "0  후드 집업  흰색                        와핑 후드집업 크림 JJOT7203   836977   4400   \n",
       "1  후드 집업  흰색                            MIX HOOD JACKET  1599014  10000   \n",
       "2  후드 집업  흰색  Classic Raglan Hoodie Zip Up [White Grey]  1736613   2500   \n",
       "3  후드 집업  흰색                   하이 양기모 후드 집업 크림 HJHD2082  1188563    800   \n",
       "4  후드 집업  흰색                           후디드 스웨트 집업 [화이트]  1211720   1700   \n",
       "\n",
       "   누적판매수     좋아요   평점                                        상품태그정보     가격  \\\n",
       "0   1000  4018.0  4.7                                집업 후드 후드집업 후드티  37900   \n",
       "1    500  2544.0  4.6                           오버핏후드 자켓 집업 후드 집업후드  79000   \n",
       "2    300   990.0  4.8                       투웨이 나그랑 후드 집업 후드집업 이지웨어  53000   \n",
       "3    100   639.0  4.7                   기모후드집업 양기모 양기모후드 집업 후드집업 기모  32900   \n",
       "4    200   403.0  4.8  스웨트셋업 스웨트컬렉션 이지웨어 집업재킷 단독후디 한정후디 단독 무탠픽업 베이식  34900   \n",
       "\n",
       "   18세이하  19세이상 23세이하  24세이상 28세이하  29세이상 33세이하  34세이상 39세이하  40세이상    남성  \\\n",
       "0   0.46         0.20         0.08         0.04         0.03   0.19  0.15   \n",
       "1   0.31         0.20         0.20         0.12         0.07   0.10  0.57   \n",
       "2   0.30         0.37         0.18         0.06         0.02   0.07  0.49   \n",
       "3   0.44         0.27         0.11         0.02         0.03   0.13  0.24   \n",
       "4   0.32         0.34         0.13         0.05         0.03   0.13  0.43   \n",
       "\n",
       "     여성       색상2                                  preprocessed_text  \n",
       "0  0.85  2.529598  [0.0, 0.0, 0.0, 0.0, 0.0, 0.0, 0.0, 0.0, 0.0, ...  \n",
       "1  0.43  2.529598  [0.0, 0.0, 0.0, 0.0, 0.0, 0.0, 0.0, 0.0, 0.0, ...  \n",
       "2  0.51  2.529598  [0.0, 0.0, 0.0, 0.0, 0.0, 0.0, 0.0, 0.0, 0.0, ...  \n",
       "3  0.76  2.529598  [0.0, 0.0, 0.0, 0.0, 0.0, 0.0, 0.0, 0.0, 0.0, ...  \n",
       "4  0.57  2.529598  [0.0, 0.0, 0.0, 0.0, 0.0, 0.0, 0.0, 0.0, 0.0, ...  "
      ]
     },
     "execution_count": 86,
     "metadata": {},
     "output_type": "execute_result"
    }
   ],
   "source": [
    "df.head()"
   ]
  },
  {
   "cell_type": "code",
   "execution_count": 87,
   "id": "75c32708",
   "metadata": {},
   "outputs": [
    {
     "data": {
      "text/plain": [
       "2.5295977011494237"
      ]
     },
     "execution_count": 87,
     "metadata": {},
     "output_type": "execute_result"
    }
   ],
   "source": [
    "df.iloc[1,18]"
   ]
  },
  {
   "cell_type": "markdown",
   "id": "4e747136",
   "metadata": {},
   "source": [
    "# 최종 저장하기"
   ]
  },
  {
   "cell_type": "code",
   "execution_count": 88,
   "id": "92042f9c",
   "metadata": {},
   "outputs": [],
   "source": [
    "df.to_csv(\"\", index= False)"
   ]
  },
  {
   "cell_type": "code",
   "execution_count": null,
   "id": "2274dd46",
   "metadata": {},
   "outputs": [],
   "source": []
  }
 ],
 "metadata": {
  "kernelspec": {
   "display_name": "Python 3",
   "language": "python",
   "name": "python3"
  },
  "language_info": {
   "codemirror_mode": {
    "name": "ipython",
    "version": 3
   },
   "file_extension": ".py",
   "mimetype": "text/x-python",
   "name": "python",
   "nbconvert_exporter": "python",
   "pygments_lexer": "ipython3",
   "version": "3.8.8"
  }
 },
 "nbformat": 4,
 "nbformat_minor": 5
}
